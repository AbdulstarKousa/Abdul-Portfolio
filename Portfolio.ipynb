{
 "cells": [
  {
   "cell_type": "markdown",
   "metadata": {},
   "source": [
    "\n",
    "---\n",
    "\n",
    "# <span style=\"color:MediumSlateBlue     \">Abdul Kousa Portfolio</span> \n",
    "\n",
    "---"
   ]
  },
  {
   "cell_type": "markdown",
   "metadata": {},
   "source": [
    " ### Project 1: [Exploring, Modeling, and Forecasting Smartphone App Usage Behavior](https://bit.ly/Abdul-SmartphoneAppUsageBehavior) "
   ]
  },
  {
   "cell_type": "markdown",
   "metadata": {},
   "source": [
    " ### Project 2: [Measuring Behavioral Change within Mobile App Usage](https://bit.ly/Abdul-MobileAppUsageChange)"
   ]
  },
  {
   "cell_type": "markdown",
   "metadata": {},
   "source": [
    " ### Project 3: [IMDb Reviews Binary Sentiment Classifier](https://bit.ly/Abdul-IMDbReviews)"
   ]
  },
  {
   "cell_type": "markdown",
   "metadata": {},
   "source": [
    " ### Project 4: [New York City Car Collision Prediction](https://bit.ly/Abdul-NYCCarCollisions)"
   ]
  },
  {
   "cell_type": "markdown",
   "metadata": {},
   "source": []
  }
 ],
 "metadata": {
  "kernelspec": {
   "display_name": "Python 3",
   "language": "python",
   "name": "python3"
  },
  "language_info": {
   "codemirror_mode": {
    "name": "ipython",
    "version": 3
   },
   "file_extension": ".py",
   "mimetype": "text/x-python",
   "name": "python",
   "nbconvert_exporter": "python",
   "pygments_lexer": "ipython3",
   "version": "3.7.4"
  }
 },
 "nbformat": 4,
 "nbformat_minor": 2
}
