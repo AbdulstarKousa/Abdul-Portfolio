{
 "cells": [
  {
   "cell_type": "markdown",
   "metadata": {},
   "source": [
    "\n",
    "---\n",
    "\n",
    "# Abdul Kousa\n",
    "\n",
    "\n",
    "###### <span style=\"color:Green     \"> Adaptable and Analytical Data Science Enthusiast who went from Refugee-to-Expert</span>\n",
    "\n",
    "\n",
    "---"
   ]
  },
  {
   "cell_type": "markdown",
   "metadata": {},
   "source": [
    "### Project 1: [Exploring, Modeling, and Forecasting Smartphone App Usage Behavior](https://bit.ly/Abdul-SmartphoneAppUsageBehavior):\n",
    "Master’s Thesis, Feb. 2023\n",
    "- Developed a novel multivariate deep neural network to analyze and predict smartphone app usage.\n",
    "- Preprocessed large real-world smartphone app usage data of approx. 12,000 users, for training and evaluation.\n",
    "- Improved mobile app usage prediction by approx. 10\\% in accuracy over baseline models and revealed valuable app usage patterns.\n"
   ]
  },
  {
   "cell_type": "markdown",
   "metadata": {},
   "source": [
    " ### Project 2: [Measuring Behavioral Change within Mobile App Usage](https://bit.ly/Abdul-MobileAppUsageChange):\n",
    " Master’s Project, Jul. 2022\n",
    " - Analyzed temporal behaviour of smartphone app users.\n",
    " - Detected usage change points and forecast shifts in usage for approx 300 users.\n",
    "  \n",
    "\n",
    "\n",
    " "
   ]
  },
  {
   "cell_type": "markdown",
   "metadata": {},
   "source": [
    " ### Project 3: [IMDb Reviews Binary Sentiment Classifier](https://bit.ly/Abdul-IMDbReviews)\n",
    " Master’s Project, Jan. 2022\n",
    "- Developed a machine learning model to automatically classify IMDb movie reviews into negative or positive sentiments.\n",
    "- Hands-on experience in organizing, scaling, monitoring and deploying the model in a production setting (MLOps).\n"
   ]
  },
  {
   "cell_type": "markdown",
   "metadata": {},
   "source": [
    " ### Project 4: [New York City Car Collision Prediction](https://bit.ly/Abdul-NYCCarCollisions)\n",
    " Master’s project, Jun. 2021\n",
    "- Predicted car accidents in NYC using data analysis, visualization and machine learning techniques.\n",
    "- Built an interactive website (dashboard) to showcase project results.\n"
   ]
  },
  {
   "cell_type": "markdown",
   "metadata": {},
   "source": [
    "---"
   ]
  }
 ],
 "metadata": {
  "kernelspec": {
   "display_name": "Python 3",
   "language": "python",
   "name": "python3"
  },
  "language_info": {
   "codemirror_mode": {
    "name": "ipython",
    "version": 3
   },
   "file_extension": ".py",
   "mimetype": "text/x-python",
   "name": "python",
   "nbconvert_exporter": "python",
   "pygments_lexer": "ipython3",
   "version": "3.7.4"
  }
 },
 "nbformat": 4,
 "nbformat_minor": 2
}
