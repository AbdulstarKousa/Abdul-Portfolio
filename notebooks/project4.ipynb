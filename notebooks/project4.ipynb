{
 "cells": [
  {
   "cell_type": "markdown",
   "metadata": {},
   "source": [
    "---"
   ]
  },
  {
   "cell_type": "markdown",
   "metadata": {},
   "source": [
    "### New York City Car Collision Prediction\n",
    "\n",
    "**Overview:**\n",
    "\n",
    "In this master's Project, I delved into predicting dangerous car accidents in New York City achieving over 60% accuracy using traditional machine learning techniques. The project aimed to provide data-driven insights into the core reasons and contributing factors behind these accidents.\n",
    "\n",
    "**Data Sources:**\n",
    "\n",
    "The project Utilized multiple data sources: the NYC Motor Vehicle Collisions - Crashes dataset, Weather data, and Speed Limit data.\n",
    "\n",
    "**Tools and Technologies Used:**\n",
    "\n",
    "The project employed a range of techniques and models, including:\n",
    "- Data integration from multiple sources\n",
    "- Comprehensive data processing and cleaning, addressing issues like missing data and feature preparation\n",
    "- In-depth data analysis, visualization, and storytelling using Matplotlib and web-based presentations\n",
    "- Exploration of temporal patterns, geographic hotspots via map plotting (Folium), and accident severity trend analysis\n",
    "- Development of interactive dashboards (Bokeh)\n",
    "- Implementation of effective data storytelling and visualization methods\n",
    "- Implementation of class balance methods\n",
    "- Development of a data preprocessor pipeline\n",
    "- Leveraging traditional machine learning models like Logistic Regression, Random Forest Classifier, and Decision Tree Classifier\n",
    "- Assessment of feature importance \n",
    "\n",
    "**Key Highlights:**\n",
    "\n",
    "- Developed a machine learning model to predict the severity of car accidents.\n",
    "- Designed a website with interactive dashboards for data storytelling and visualization.\n",
    "- Explored important features contributing to severe accidents, such as street names, vehicle types, and weather conditions and identified key insights for accident prevention.\n",
    "\n",
    "\n",
    "**Learn More**\n",
    "\n",
    "For an in-depth and interactive exploration of this project, including methodologies, code, and more, please visit the project website [here.](https://bit.ly/Abdul-NYCCarCollisions). \n",
    "\n",
    "\n"
   ]
  },
  {
   "cell_type": "markdown",
   "metadata": {},
   "source": [
    "---"
   ]
  }
 ],
 "metadata": {
  "kernelspec": {
   "display_name": "Python 3",
   "language": "python",
   "name": "python3"
  },
  "language_info": {
   "codemirror_mode": {
    "name": "ipython",
    "version": 3
   },
   "file_extension": ".py",
   "mimetype": "text/x-python",
   "name": "python",
   "nbconvert_exporter": "python",
   "pygments_lexer": "ipython3",
   "version": "3.7.4"
  }
 },
 "nbformat": 4,
 "nbformat_minor": 2
}
