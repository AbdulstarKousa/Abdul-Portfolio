{
 "cells": [
  {
   "cell_type": "markdown",
   "metadata": {},
   "source": [
    "---"
   ]
  },
  {
   "cell_type": "markdown",
   "metadata": {},
   "source": [
    "### Measuring Behavioral Change Within Mobile App Usage\n",
    "\n",
    "**Overview:**\n",
    "\n",
    "In the realm of time series analysis, understanding the nature of data is the first step towards developing reliable forecasts. This project focuses on univariate time series analysis, covering data preparation, visualization, in-depth analysis, and precise forecasting. The project provides valuable insights into time series analysis techniques and their practical applications in forecasting and detecting behavioral changes within mobile app usage.\n",
    "\n",
    "**Data Sources:**\n",
    "\n",
    "The project harnessed data from a real world sample of nearly 10,000 smartphone users. This dataset provided insights into users' daily screen time, number of checks, and number of applications over time.\n",
    "\n",
    "**Tools and Technologies Used:**\n",
    "\n",
    "The project employed a range of techniques and models, including:\n",
    "- Outliers detection\n",
    "- Missing values imputation\n",
    "- Auto-correlation analysis\n",
    "- Rolling windows analysis\n",
    "- Stationarity tests\n",
    "- Power transformations\n",
    "- Seasonal ARIMA for forecasting\n",
    "- Facebook Prophet for forecasting\n",
    "- Pruned Exact Linear Time (PELT) for change point detection\n",
    "\n",
    "**Key Findings:**\n",
    "\n",
    "Key findings and outcomes of this project include:\n",
    "- Explored various methods for detecting change points in time series data.\n",
    "- Prophet outperformed both the persistence model and seasonal ARIMA in forecasting 30 days of daily number of checks, with the superiority validated through an experiment involving 300 different users.\n",
    "\n",
    "**Learn More:**\n",
    "\n",
    "For a comprehensive exploration of this project, including methodologies, code, detailed results, and potential future directions, please refer [here](https://bit.ly/Abdul-MobileAppUsageChange). "
   ]
  },
  {
   "cell_type": "markdown",
   "metadata": {},
   "source": [
    "---"
   ]
  }
 ],
 "metadata": {
  "kernelspec": {
   "display_name": "Python 3",
   "language": "python",
   "name": "python3"
  },
  "language_info": {
   "codemirror_mode": {
    "name": "ipython",
    "version": 3
   },
   "file_extension": ".py",
   "mimetype": "text/x-python",
   "name": "python",
   "nbconvert_exporter": "python",
   "pygments_lexer": "ipython3",
   "version": "3.7.4"
  }
 },
 "nbformat": 4,
 "nbformat_minor": 2
}
