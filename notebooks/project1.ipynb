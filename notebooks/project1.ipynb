{
 "cells": [
  {
   "cell_type": "markdown",
   "metadata": {},
   "source": [
    "---"
   ]
  },
  {
   "cell_type": "markdown",
   "metadata": {},
   "source": [
    "### Exploring, Modeling, and Forecasting Smartphone App Usage Behavior\n",
    "\n",
    "**Overview:**\n",
    "\n",
    "Smartphone usage has become an integral part of modern life, impacting various aspects of society. To gain a comprehensive understanding of smartphone usage patterns, this data project explored, modeled, and forecasted smartphone app usage behavior. The primary objectives were to predict users' weekly smartphone usage and uncover insights into how people utilize their devices over time.\n",
    "\n",
    "**Data Sources:**\n",
    "\n",
    "The project leveraged a substantial real-world dataset collected from approximately 12,000 smartphone users. This rich dataset served as the foundation for the analysis.\n",
    "\n",
    "**Tools and Technologies Used:**\n",
    "\n",
    "The analysis employed advanced data science techniques, particularly focusing on the application of a Hierarchical Attention Network (HAN)-based deep learning architecture. Various data preprocessing methods were applied, including discretization, numericalization, and data padding. Model development included techniques such as embedding, positional encoding, encoders, and attention mechanisms. Additionally, visualization and analysis of the trained model's attention weights provided valuable insights.\n",
    "\n",
    "**Key Findings:**\n",
    "\n",
    "The research yielded significant findings and outcomes:\n",
    "\n",
    "- The proposed HAN-based models consistently outperformed baseline models, including persistence and simple GRU/LSTM cells, across all classification tasks.\n",
    "- HAN-based architectures effectively captured both weekly and daily usage patterns, making them well-suited for predicting app usage.\n",
    "- Attention mechanisms in the model allowed for selective focus on crucial data, enhancing predictive accuracy, especially in differentiating low and high usage labels.\n",
    "- Notably, the model excelled in identifying low and high usage patterns, with intermediate labels presenting overlapping characteristics.\n",
    "- The project revealed the potential for using the model as a tool to identify problematic smartphone usage.\n",
    "- This research has the potential to impact various domains, including predictive analytics for problematic smartphone usage, personalized recommendation systems, targeted advertising, marketing strategies, human-computer interaction, and public health initiatives.\n",
    "\n",
    "**Learn More:**\n",
    "\n",
    "For a detailed exploration of this project, including methodologies, detailed results, code and implications, please refer [here](https://bit.ly/Abdul-SmartphoneAppUsageBehavior). \n"
   ]
  },
  {
   "cell_type": "markdown",
   "metadata": {},
   "source": [
    "---"
   ]
  }
 ],
 "metadata": {
  "kernelspec": {
   "display_name": "Python 3",
   "language": "python",
   "name": "python3"
  },
  "language_info": {
   "codemirror_mode": {
    "name": "ipython",
    "version": 3
   },
   "file_extension": ".py",
   "mimetype": "text/x-python",
   "name": "python",
   "nbconvert_exporter": "python",
   "pygments_lexer": "ipython3",
   "version": "3.7.4"
  }
 },
 "nbformat": 4,
 "nbformat_minor": 2
}
