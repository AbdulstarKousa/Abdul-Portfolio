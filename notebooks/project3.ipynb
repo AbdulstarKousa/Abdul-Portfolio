{
 "cells": [
  {
   "cell_type": "markdown",
   "metadata": {},
   "source": [
    "---"
   ]
  },
  {
   "cell_type": "markdown",
   "metadata": {},
   "source": [
    "### IMDb Reviews Binary Sentiment Classifier\n",
    "\n",
    "**Overview:**\n",
    "\n",
    "As part of my Master's Project, I developed a cutting-edge machine learning model for the automatic classification of IMDb movie reviews into positive or negative sentiments. This project encompassed the entire machine learning project lifecycle, from data organization and preprocessing to model deployment in a production environment, emphasizing MLOps practices.\n",
    "\n",
    "**Data Sources:**\n",
    "\n",
    "The project utilized a dataset available on the Hugging Face GitHub page, consisting of movie reviews with binary sentiment labels.\n",
    "\n",
    "**Tools and Technologies Used:**\n",
    "\n",
    "Key tools and technologies involved in this project:\n",
    "- MLOps tools (Git, DVC, Docker, GCP, Pytest, code organization, project documentation)\n",
    "- Python\n",
    "\n",
    "**Key Findings:**\n",
    "\n",
    "Key outcomes of this project include:\n",
    "- Successful development of a binary sentiment classifier using the Hugging Face Transformer framework.\n",
    "- Leveraging a Bidirectional Encoder Representations from Transformers (BERT) model for sentiment analysis.\n",
    "\n",
    "**Learn More**\n",
    "\n",
    "For a comprehensive exploration of this project, including methodologies, code, please refer [here](https://bit.ly/Abdul-IMDbReviews). \n"
   ]
  },
  {
   "cell_type": "markdown",
   "metadata": {},
   "source": [
    "---"
   ]
  }
 ],
 "metadata": {
  "kernelspec": {
   "display_name": "Python 3",
   "language": "python",
   "name": "python3"
  },
  "language_info": {
   "codemirror_mode": {
    "name": "ipython",
    "version": 3
   },
   "file_extension": ".py",
   "mimetype": "text/x-python",
   "name": "python",
   "nbconvert_exporter": "python",
   "pygments_lexer": "ipython3",
   "version": "3.7.4"
  }
 },
 "nbformat": 4,
 "nbformat_minor": 2
}
