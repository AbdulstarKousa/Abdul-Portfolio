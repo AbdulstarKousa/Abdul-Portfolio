{
 "cells": [
  {
   "cell_type": "markdown",
   "metadata": {},
   "source": [
    "\n",
    "---\n",
    "<figure>\n",
    "<img style=\"float:left; padding-right:50px\" width=\"100\" height=\"110\" src=\"https://www.dropbox.com/scl/fi/6p7iewvk304s7tj4b4vvu/Abdulstar_Kousa.png?rlkey=v7sag3ndxppo7066nt2q7ntg6&dl=1\">\n",
    "</figure>\n",
    "\n",
    "\n",
    "# Abdul Kousa\n",
    "\n",
    "###### <span style=\"color:Green     \"> Adaptable and Analytical Data Science Enthusiast who went from Refugee-to-Expert </span>\n",
    "\n",
    "<br/><br/>\n",
    "\n",
    "Hello there! I'm Abdul Kousa, an enthusiastic Data Scientist. Welcome to my portfolio, where I present a collection of my academic Data Science projects.\n",
    "\n",
    "My skill set encompasses a wide range of areas, including data science, machine learning, artificial intelligence, time series analysis, and mathematical modeling. I have a knack for unraveling intricate data and turning it into actionable insights.\n",
    "\n",
    "Feel free to reach out:\n",
    "- **Email**: [abdul.kousa@gmail.com](abdul.kousa@gmail.com)\n",
    "- **LinkedIn**: [abdul-kousa](https://www.linkedin.com/in/abdul-kousa/)\n",
    "\n",
    "---\n"
   ]
  },
  {
   "cell_type": "markdown",
   "metadata": {},
   "source": [
    "# Explore Projects:"
   ]
  },
  {
   "cell_type": "markdown",
   "metadata": {},
   "source": [
    "<img style=\"float:left; padding-right:50px\" width=\"250\" height=\"150\" src=\"https://www.dropbox.com/scl/fi/82orw7r3ad969cglx30pz/EMFSAU.png?rlkey=uun4svbhhqbgldtemvvxo605r&dl=1\"> **[Exploring, Modeling, and Forecasting Smartphone App Usage Behavior](https://bit.ly/Abdul-SmartphoneAppUsageBehavior)**\n",
    "\n",
    "\n",
    "Master’s Thesis, Fall 2022\n",
    "\n",
    "\n",
    "Explore, model, and predict smartphone app usage behavior in this data project. Leveraging a rich real-world dataset from 12,000 users, I developed a novel multivariate time-series deep-learning model based on Hierarchical Attention Networks (HAN) to accurately forecast users' weekly app usage. The model outperforms baseline models, including persistence and simple GRU/LSTM cells. Uncovering insights into usage patterns and the potential for identifying problematic smartphone usage. <a href=\"html/project1.html\">Read More.</a>\n",
    "<br/><br/> <br/><br/>"
   ]
  },
  {
   "cell_type": "markdown",
   "metadata": {},
   "source": [
    "<img style=\"float:left; padding-right:50px\" width=\"250\" height=\"150\" src=\"https://www.dropbox.com/scl/fi/erimysr5w0ouxyzw0mj6q/MBCMAU.jpg?rlkey=jhcmm8cwgh0behde7c8owid57&dl=1\"> **[Measuring Behavioral Change within Mobile App Usage](https://bit.ly/Abdul-MobileAppUsageChange):**\n",
    "\n",
    "Master’s Project, Summer 2022\n",
    "\n",
    "Explore the world of time series analysis and its practical applications in mobile app usage behavior. Leveraging data from 10k+ smartphone users, this project unveils insights into daily screen time, check frequency, and app usage trends. Discover key findings, including the superiority of the Facebook Prophet model in forecasting daily check numbers and adapting to change points compared to seasonal ARIMA.\n",
    "<a href=\"html/project2.html\">Read More.</a>\n",
    "<br/><br/> <br/><br/>"
   ]
  },
  {
   "cell_type": "markdown",
   "metadata": {},
   "source": [
    " <img style=\"float:left; padding-right:50px\" width=\"250\" height=\"150\" src=\"https://www.dropbox.com/scl/fi/6qwyvw9o6udwl0vygfhb3/IMDB.png?rlkey=9fe1pkq46l3f6wwiazfgp2zjx&dl=1\"> **[IMDb Reviews Binary Sentiment Classifier](https://bit.ly/Abdul-IMDbReviews):**\n",
    " \n",
    "Master’s Project, Jan. 2022\n",
    "\n",
    "Developed a state-of-the-art IMDb movie review sentiment classifier. Leveraging the power of the Hugging Face Transformer framework, this machine learning model, based on BERT, automatically categorizes reviews into positive or negative sentiments. Emphasizing MLOps practices, from data prep to deployment. <a href=\"html/project3.html\">Read More.</a>\n",
    "<br/><br/> <br/><br/>"
   ]
  },
  {
   "cell_type": "markdown",
   "metadata": {},
   "source": [
    " <img style=\"float:left; padding-right:50px\" width=\"250\" height=\"150\" src=\"https://www.dropbox.com/scl/fi/ibc3tmakz5tm5yy5eyn8i/NYS.png?rlkey=xhfkhin6c7qsbftqrkjeee7d4&dl=1\"> **[New York City Car Collision Prediction](https://bit.ly/Abdul-NYCCarCollisions):**\n",
    "\n",
    "Master’s Project, Spring 2021\n",
    " \n",
    "Focusing on predicting car collisions in New York City using traditional machine learning techniques. This data-driven project investigates contributing factors to offer insights for accident prevention. Experience interactive data storytelling and visualization through thoughtfully designed dashboards. <a href=\"html/project4.html\">Read More.</a>\n",
    "<br/><br/> <br/><br/>"
   ]
  },
  {
   "cell_type": "markdown",
   "metadata": {},
   "source": [
    "---"
   ]
  }
 ],
 "metadata": {
  "kernelspec": {
   "display_name": "Python 3",
   "language": "python",
   "name": "python3"
  },
  "language_info": {
   "codemirror_mode": {
    "name": "ipython",
    "version": 3
   },
   "file_extension": ".py",
   "mimetype": "text/x-python",
   "name": "python",
   "nbconvert_exporter": "python",
   "pygments_lexer": "ipython3",
   "version": "3.7.4"
  }
 },
 "nbformat": 4,
 "nbformat_minor": 2
}
