{
 "cells": [
  {
   "cell_type": "markdown",
   "metadata": {},
   "source": [
    "\n",
    "---\n",
    "<figure>\n",
    "<img style=\"float:left; padding-right:50px\" width=\"100\" height=\"110\" src=\"https://www.dropbox.com/scl/fi/6p7iewvk304s7tj4b4vvu/Abdulstar_Kousa.png?rlkey=v7sag3ndxppo7066nt2q7ntg6&dl=1\">\n",
    "</figure>\n",
    "\n",
    "\n",
    "# Abdul Kousa\n",
    "\n",
    "###### <span style=\"color:Green     \"> Adaptable and Analytical Data Science Enthusiast who went from Refugee-to-Expert </span>\n",
    "\n",
    "<br/><br/>\n",
    "\n",
    "Hello, I'm Abdul Kousa, a passionate Data Scientist.\n",
    "\n",
    "This portfolio showcases some of my academic Data Science projects.\n",
    "\n",
    "**My expertise** spans data science, machine learning, AI, and mathematical modeling. I excel at transforming complex data into actionable insights.\n",
    "\n",
    "**Beyond Data**,  I enjoy chess, football, and documentaries.\n",
    "\n",
    "\n",
    "- **Email**: [abdul.kousa@gmail.com](abdul.kousa@gmail.com)\n",
    "- **LinkedIn**: [abdul-kousa](https://www.linkedin.com/in/abdul-kousa/)\n",
    "---\n"
   ]
  },
  {
   "cell_type": "markdown",
   "metadata": {},
   "source": [
    "# Explore Projects:"
   ]
  },
  {
   "cell_type": "markdown",
   "metadata": {},
   "source": [
    "<img style=\"float:left; padding-right:50px\" width=\"250\" height=\"150\" src=\"https://www.dropbox.com/scl/fi/82orw7r3ad969cglx30pz/EMFSAU.png?rlkey=uun4svbhhqbgldtemvvxo605r&dl=1\"> **[Exploring, Modeling, and Forecasting Smartphone App Usage Behavior](https://bit.ly/Abdul-SmartphoneAppUsageBehavior)**\n",
    "\n",
    "\n",
    "Master’s Thesis, Feb. 2023\n",
    "- Developed a novel multivariate deep neural network to analyze and predict smartphone app usage.\n",
    "- Preprocessed large real-world smartphone app usage data of approx. 12,000 users, for training and evaluation.\n",
    "- Improved mobile app usage prediction by approx. 10\\% in accuracy over baseline models and revealed valuable app usage patterns.\n",
    "<br/><br/> <br/><br/>"
   ]
  },
  {
   "cell_type": "markdown",
   "metadata": {},
   "source": [
    " <img style=\"float:left; padding-right:50px\" width=\"250\" height=\"150\" src=\"https://www.dropbox.com/scl/fi/erimysr5w0ouxyzw0mj6q/MBCMAU.jpg?rlkey=jhcmm8cwgh0behde7c8owid57&dl=1\"> **[Measuring Behavioral Change within Mobile App Usage](https://bit.ly/Abdul-MobileAppUsageChange):**\n",
    "\n",
    " Master’s Project, Jul. 2022\n",
    " - Analyzed temporal behaviour of smartphone app users.\n",
    " - Detected usage change points and forecast shifts in usage for approx 300 users.\n",
    "  <br/><br/> <br/><br/>"
   ]
  },
  {
   "cell_type": "markdown",
   "metadata": {},
   "source": [
    " <img style=\"float:left; padding-right:50px\" width=\"250\" height=\"150\" src=\"https://www.dropbox.com/scl/fi/6qwyvw9o6udwl0vygfhb3/IMDB.png?rlkey=9fe1pkq46l3f6wwiazfgp2zjx&dl=1\"> **[IMDb Reviews Binary Sentiment Classifier](https://bit.ly/Abdul-IMDbReviews):**\n",
    " \n",
    " Master’s Project, Jan. 2022\n",
    "- Developed a machine learning model to automatically classify IMDb movie reviews into negative or positive sentiments.\n",
    "- Hands-on experience in organizing, scaling, monitoring and deploying the model in a production setting (MLOps).\n",
    "<br/><br/> <br/><br/>"
   ]
  },
  {
   "cell_type": "markdown",
   "metadata": {},
   "source": [
    " <img style=\"float:left; padding-right:50px\" width=\"250\" height=\"150\" src=\"https://www.dropbox.com/scl/fi/ibc3tmakz5tm5yy5eyn8i/NYS.png?rlkey=xhfkhin6c7qsbftqrkjeee7d4&dl=1\"> **[New York City Car Collision Prediction](https://bit.ly/Abdul-NYCCarCollisions):**\n",
    "\n",
    " Master’s project, Jun. 2021\n",
    "- Predicted car accidents in NYC using data analysis, visualization and machine learning techniques.\n",
    "- Built an interactive website (dashboard) to showcase project results.\n",
    "<br/><br/> <br/><br/>"
   ]
  },
  {
   "cell_type": "markdown",
   "metadata": {},
   "source": [
    "---"
   ]
  }
 ],
 "metadata": {
  "kernelspec": {
   "display_name": "Python 3",
   "language": "python",
   "name": "python3"
  },
  "language_info": {
   "codemirror_mode": {
    "name": "ipython",
    "version": 3
   },
   "file_extension": ".py",
   "mimetype": "text/x-python",
   "name": "python",
   "nbconvert_exporter": "python",
   "pygments_lexer": "ipython3",
   "version": "3.7.4"
  }
 },
 "nbformat": 4,
 "nbformat_minor": 2
}
