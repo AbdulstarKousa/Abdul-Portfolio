{
 "cells": [
  {
   "cell_type": "markdown",
   "metadata": {},
   "source": [
    "---"
   ]
  },
  {
   "cell_type": "markdown",
   "metadata": {},
   "source": [
    "### Deep Learning Image Colorization\n",
    "\n",
    "**Overview:**\n",
    "\n",
    "Colorizing black and white images is a complex task, as it involves predicting multiple color channels from a single grayscale input. This project delves into various deep learning architectures, including Convolutional Neural Networks (CNNs) and conditional Generator-Discriminator pipelines. We compare these models, assessing their performance based on well-established computer vision metrics.\n",
    "\n",
    "**Data Sources:**\n",
    "\n",
    "The project relies on grayscale images as input data, allowing us to explore the challenging world of colorization.\n",
    "\n",
    "**Tools and Technologies:**\n",
    "\n",
    "- Deep Learning: Utilizing CNNs and GANs to generate colorized images.\n",
    "- L·a·b Color Space: A more effective alternative to RGB for colorization tasks.\n",
    "- Image Metrics: Evaluation using PSNR, SSIM, and LPIPS to gauge colorization quality.\n",
    "\n",
    "**Key Findings:**\n",
    "\n",
    "Through extensive experimentation, we identify the optimal model for grayscale image colorization. We address the multi-modal and undetermined nature of this problem and discuss the intricacies of evaluating colorization results.\n",
    "\n",
    "**Learn more:**\n",
    "\n",
    "For a comprehensive exploration of this project, including methodologies, code, please refer [here](https://github.com/AbdulstarKousa/DeepLearners2021/blob/main/Report.pdf). \n"
   ]
  },
  {
   "cell_type": "markdown",
   "metadata": {},
   "source": [
    "---"
   ]
  }
 ],
 "metadata": {
  "kernelspec": {
   "display_name": "Python 3",
   "language": "python",
   "name": "python3"
  },
  "language_info": {
   "codemirror_mode": {
    "name": "ipython",
    "version": 3
   },
   "file_extension": ".py",
   "mimetype": "text/x-python",
   "name": "python",
   "nbconvert_exporter": "python",
   "pygments_lexer": "ipython3",
   "version": "3.7.4"
  }
 },
 "nbformat": 4,
 "nbformat_minor": 2
}
